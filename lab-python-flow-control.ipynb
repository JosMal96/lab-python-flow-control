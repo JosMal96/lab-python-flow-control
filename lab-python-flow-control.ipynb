{
 "cells": [
  {
   "cell_type": "markdown",
   "id": "d3bfc191-8885-42ee-b0a0-bbab867c6f9f",
   "metadata": {
    "tags": []
   },
   "source": [
    "# Lab | Flow Control"
   ]
  },
  {
   "cell_type": "markdown",
   "id": "3851fcd1-cf98-4653-9c89-e003b7ec9400",
   "metadata": {},
   "source": [
    "## Exercise: Managing Customer Orders Optimized\n",
    "\n",
    "In the last lab, you were starting an online store that sells various products. To ensure smooth operations, you developed a program that manages customer orders and inventory.\n",
    "\n",
    "You did so without using flow control. Let's go a step further and improve this code.\n",
    "\n",
    "Follow the steps below to complete the exercise:\n",
    "\n",
    "1. Look at your code from the lab data structures, and improve repeated code with loops.\n",
    "\n",
    "2. Instead of asking the user to input the name of three products that a customer wants to order, do the following:\n",
    "    \n",
    "    a. Prompt the user to enter the name of a product that a customer wants to order.\n",
    "    \n",
    "    b. Add the product name to the \"customer_orders\" set.\n",
    "    \n",
    "    c. Ask the user if they want to add another product (yes/no).\n",
    "    \n",
    "    d. Continue the loop until the user does not want to add another product.\n",
    "\n",
    "3. Instead of updating the inventory by subtracting 1 from the quantity of each product, only do it for  the products that were ordered (those in \"customer_orders\")."
   ]
  },
  {
   "cell_type": "code",
   "execution_count": null,
   "id": "fe6b5427-cd9c-42f0-aec0-b7f5f250c4c2",
   "metadata": {},
   "outputs": [],
   "source": [
    "#These cells are for working in the lab"
   ]
  },
  {
   "cell_type": "code",
   "execution_count": 11,
   "id": "de936c6a-d4d4-4e6b-be7a-7b048c862eb9",
   "metadata": {},
   "outputs": [],
   "source": [
    "products = [\"t-shirt\", \"mug\", \"hat\", \"book\" , \"keychain\"]"
   ]
  },
  {
   "cell_type": "code",
   "execution_count": 13,
   "id": "bc6632d1-b78a-4e20-91ed-db2727a36b0b",
   "metadata": {},
   "outputs": [],
   "source": [
    "inventory = {}"
   ]
  },
  {
   "cell_type": "code",
   "execution_count": 14,
   "id": "bdb560be-32ff-45ff-a6a2-8cee735f2362",
   "metadata": {},
   "outputs": [
    {
     "name": "stdin",
     "output_type": "stream",
     "text": [
      "Enter the available t-shirt for each product 10\n",
      "Enter the available mug for each product 20\n",
      "Enter the available hat for each product 30\n",
      "Enter the available book for each product 40\n",
      "Enter the available keychain for each product 50\n"
     ]
    }
   ],
   "source": [
    "#Enhanced for loop, for the iterate the products in the list\n",
    "for product in products:\n",
    "    quantityProduct = int(input(f\"Enter the available {product} for each product\"))\n",
    "    inventory[product] = quantityProduct"
   ]
  },
  {
   "cell_type": "code",
   "execution_count": 15,
   "id": "f47f0dc9-756d-4df1-b2f1-f94cdcfa3121",
   "metadata": {},
   "outputs": [],
   "source": [
    "customer_orders = set()"
   ]
  },
  {
   "cell_type": "code",
   "execution_count": 16,
   "id": "4bf242d0-da36-483e-a724-3370fe40cfa5",
   "metadata": {},
   "outputs": [
    {
     "name": "stdin",
     "output_type": "stream",
     "text": [
      "Please enter the names of the products you want, type t-shirt, mug, hat, book, keychain:  mug\n",
      "You add some products, do you want more? yes or no? yes\n",
      "Please enter the names of the products you want, type t-shirt, mug, hat, book, keychain:  hat\n",
      "You add some products, do you want more? yes or no? book\n"
     ]
    }
   ],
   "source": [
    "# Prompt the user to enter the name of a product that a customer wants to order.\n",
    "name_product = input(\"Please enter the names of the products you want, type t-shirt, mug, hat, book, keychain: \")\n",
    "customer_orders.add(name_product)\n",
    "prompt = input(\"You add some products, do you want more? yes or no?\")\n",
    "#Ask the user if they want to add another product (yes/no).\n",
    "#Continue the loop until the user does not want to add another product.\n",
    "while prompt == \"yes\":\n",
    "    name_product = input(\"Please enter the names of the products you want, type t-shirt, mug, hat, book, keychain: \")\n",
    "    customer_orders.add(name_product)\n",
    "    prompt = input(\"You add some products, do you want more? yes or no?\")"
   ]
  },
  {
   "cell_type": "code",
   "execution_count": 17,
   "id": "ef10fce3-b924-48fb-8304-54b4c657a0d2",
   "metadata": {},
   "outputs": [
    {
     "data": {
      "text/plain": [
       "{'hat', 'mug'}"
      ]
     },
     "execution_count": 17,
     "metadata": {},
     "output_type": "execute_result"
    }
   ],
   "source": [
    "customer_orders"
   ]
  },
  {
   "cell_type": "code",
   "execution_count": 18,
   "id": "12dad8d3-de7a-42a0-a975-6aefebe56098",
   "metadata": {},
   "outputs": [
    {
     "name": "stdout",
     "output_type": "stream",
     "text": [
      "Updated Inventory: {'t-shirt': 10, 'mug': 19, 'hat': 29, 'book': 40, 'keychain': 50}\n"
     ]
    }
   ],
   "source": [
    "# Substracts the item selected in the list\n",
    "for product in customer_orders:\n",
    "    inventory[product] -= 1\n",
    "print(\"Updated Inventory:\", inventory)"
   ]
  },
  {
   "cell_type": "code",
   "execution_count": 19,
   "id": "76b6dae9-b5d8-4b8c-a72a-fd38764142f8",
   "metadata": {},
   "outputs": [
    {
     "name": "stdout",
     "output_type": "stream",
     "text": [
      "Updated Inventory:\n",
      "t-shirt: 10\n",
      "mug: 19\n",
      "hat: 29\n",
      "book: 40\n",
      "keychain: 50\n"
     ]
    }
   ],
   "source": [
    "print(\"Updated Inventory:\")\n",
    "for product, quantity in inventory.items():\n",
    "    print(f\"{product}: {quantity}\")"
   ]
  }
 ],
 "metadata": {
  "kernelspec": {
   "display_name": "Python 3 (ipykernel)",
   "language": "python",
   "name": "python3"
  },
  "language_info": {
   "codemirror_mode": {
    "name": "ipython",
    "version": 3
   },
   "file_extension": ".py",
   "mimetype": "text/x-python",
   "name": "python",
   "nbconvert_exporter": "python",
   "pygments_lexer": "ipython3",
   "version": "3.11.7"
  }
 },
 "nbformat": 4,
 "nbformat_minor": 5
}
